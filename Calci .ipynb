{
 "cells": [
  {
   "cell_type": "code",
   "execution_count": null,
   "metadata": {},
   "outputs": [
    {
     "name": "stdout",
     "output_type": "stream",
     "text": [
      "enter operator and the numbers:log 3\n",
      "1.0986122886681098\n",
      "do you want to continue{yes/No}:yes\n",
      "enter operator and the numbers:/ 50 2\n",
      "25.0\n",
      "do you want to continue{yes/No}:yes\n",
      "enter operator and the numbers:+ 55 6\n",
      "61\n",
      "do you want to continue{yes/No}:yes\n",
      "enter operator and the numbers:- 88 7\n",
      "81\n",
      "do you want to continue{yes/No}:yes\n",
      "enter operator and the numbers:* 88 99\n",
      "8712\n",
      "do you want to continue{yes/No}:yes\n",
      "enter operator and the numbers:^ 2 5\n",
      "32\n",
      "do you want to continue{yes/No}:yes\n"
     ]
    }
   ],
   "source": [
    "import operator , math\n",
    "\n",
    "funcs = {'+' : operator.add,\n",
    "         '-' : operator.sub,\n",
    "         '*' : operator.mul,\n",
    "         '^' : operator.pow,\n",
    "         'log':math.log,\n",
    "         '/':operator.truediv}\n",
    "\n",
    "def proc_inp(x): return funcs[x[0]](*map(lambda x : int(x) if '.' not in x else float(x), x[1:]))\n",
    "\n",
    "cont = True\n",
    "while cont:\n",
    "    inp = input(\"enter operator and the numbers:\")\n",
    "    inp = inp.split()\n",
    "    print (proc_inp(inp))\n",
    "    cont = input('do you want to continue{yes/No}:') == 'yes'"
   ]
  },
  {
   "cell_type": "code",
   "execution_count": null,
   "metadata": {},
   "outputs": [],
   "source": []
  }
 ],
 "metadata": {
  "kernelspec": {
   "display_name": "Python 3",
   "language": "python",
   "name": "python3"
  },
  "language_info": {
   "codemirror_mode": {
    "name": "ipython",
    "version": 3
   },
   "file_extension": ".py",
   "mimetype": "text/x-python",
   "name": "python",
   "nbconvert_exporter": "python",
   "pygments_lexer": "ipython3",
   "version": "3.8.5"
  }
 },
 "nbformat": 4,
 "nbformat_minor": 4
}
